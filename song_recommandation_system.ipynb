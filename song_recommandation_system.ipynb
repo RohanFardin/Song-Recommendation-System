{
 "cells": [
  {
   "cell_type": "code",
   "execution_count": 4,
   "metadata": {
    "executionInfo": {
     "elapsed": 770,
     "status": "ok",
     "timestamp": 1733547853872,
     "user": {
      "displayName": "Rohan Fardin",
      "userId": "00490590814825719221"
     },
     "user_tz": -360
    },
    "id": "NKfZlxGlXJp7"
   },
   "outputs": [],
   "source": [
    "import pandas as pd\n",
    "import numpy as np\n",
    "import re\n",
    "import pickle"
   ]
  },
  {
   "cell_type": "code",
   "execution_count": 5,
   "metadata": {
    "executionInfo": {
     "elapsed": 42873,
     "status": "ok",
     "timestamp": 1733547974420,
     "user": {
      "displayName": "Rohan Fardin",
      "userId": "00490590814825719221"
     },
     "user_tz": -360
    },
    "id": "vwky6uePftzb"
   },
   "outputs": [
    {
     "name": "stderr",
     "output_type": "stream",
     "text": [
      "<>:1: SyntaxWarning: invalid escape sequence '\\M'\n",
      "<>:1: SyntaxWarning: invalid escape sequence '\\M'\n",
      "C:\\Users\\USER\\AppData\\Local\\Temp\\ipykernel_8912\\2265808470.py:1: SyntaxWarning: invalid escape sequence '\\M'\n",
      "  df = pd.read_csv('\song_lyrics_smaller.csv')\n"
     ]
    }
   ],
   "source": [
    "df = pd.read_csv('song_lyrics_smaller.csv')"
   ]
  },
  {
   "cell_type": "code",
   "execution_count": 6,
   "metadata": {
    "executionInfo": {
     "elapsed": 4,
     "status": "ok",
     "timestamp": 1733547974421,
     "user": {
      "displayName": "Rohan Fardin",
      "userId": "00490590814825719221"
     },
     "user_tz": -360
    },
    "id": "gBlSehChf2Lb"
   },
   "outputs": [],
   "source": [
    "df.drop(columns=['views','language_cld3', 'language_ft'], inplace=True)\n"
   ]
  },
  {
   "cell_type": "code",
   "execution_count": 7,
   "metadata": {
    "executionInfo": {
     "elapsed": 4,
     "status": "ok",
     "timestamp": 1733547975121,
     "user": {
      "displayName": "Rohan Fardin",
      "userId": "00490590814825719221"
     },
     "user_tz": -360
    },
    "id": "MKjrTyPWjFDY"
   },
   "outputs": [],
   "source": [
    "df.dropna(axis=0, inplace=True)"
   ]
  },
  {
   "cell_type": "code",
   "execution_count": 8,
   "metadata": {
    "executionInfo": {
     "elapsed": 3,
     "status": "ok",
     "timestamp": 1733547975121,
     "user": {
      "displayName": "Rohan Fardin",
      "userId": "00490590814825719221"
     },
     "user_tz": -360
    },
    "id": "YDjKqjWBjT_f"
   },
   "outputs": [],
   "source": [
    "def clean_features(value):\n",
    "    value = re.sub(r'[{}()\"]', '', value)\n",
    "    value = value.encode('utf-8').decode('utf-8', errors='ignore')\n",
    "    if not value:\n",
    "        return None\n",
    "    return [v.strip().replace(\" \", \"\") for v in value.split(',')]"
   ]
  },
  {
   "cell_type": "code",
   "execution_count": 9,
   "metadata": {
    "executionInfo": {
     "elapsed": 1968,
     "status": "ok",
     "timestamp": 1733547977086,
     "user": {
      "displayName": "Rohan Fardin",
      "userId": "00490590814825719221"
     },
     "user_tz": -360
    },
    "id": "NZlhbz6rjfNa"
   },
   "outputs": [],
   "source": [
    "df['features'] = df['features'].apply(clean_features)"
   ]
  },
  {
   "cell_type": "code",
   "execution_count": 10,
   "metadata": {
    "executionInfo": {
     "elapsed": 2891,
     "status": "ok",
     "timestamp": 1733547979974,
     "user": {
      "displayName": "Rohan Fardin",
      "userId": "00490590814825719221"
     },
     "user_tz": -360
    },
    "id": "snvfm5d4jg7A"
   },
   "outputs": [],
   "source": [
    "df['N_artist'] = df['artist'].apply(clean_features)"
   ]
  },
  {
   "cell_type": "code",
   "execution_count": 11,
   "metadata": {
    "executionInfo": {
     "elapsed": 4619,
     "status": "ok",
     "timestamp": 1733547984590,
     "user": {
      "displayName": "Rohan Fardin",
      "userId": "00490590814825719221"
     },
     "user_tz": -360
    },
    "id": "-R-Tuvkdjm6-"
   },
   "outputs": [],
   "source": [
    "from nltk.corpus import stopwords\n",
    "from nltk.tokenize import word_tokenize\n",
    "from nltk.corpus import stopwords\n",
    "from nltk.stem import PorterStemmer\n",
    "import string"
   ]
  },
  {
   "cell_type": "code",
   "execution_count": 12,
   "metadata": {
    "colab": {
     "base_uri": "https://localhost:8080/"
    },
    "executionInfo": {
     "elapsed": 1360,
     "status": "ok",
     "timestamp": 1733547985934,
     "user": {
      "displayName": "Rohan Fardin",
      "userId": "00490590814825719221"
     },
     "user_tz": -360
    },
    "id": "ggIq_MtsjmzT",
    "outputId": "5e441d2f-557b-409f-885d-a7b166220a23"
   },
   "outputs": [
    {
     "name": "stderr",
     "output_type": "stream",
     "text": [
      "[nltk_data] Error loading punkt: <urlopen error [Errno 11001]\n",
      "[nltk_data]     getaddrinfo failed>\n",
      "[nltk_data] Error loading punkt_tab: <urlopen error [Errno 11001]\n",
      "[nltk_data]     getaddrinfo failed>\n",
      "[nltk_data] Error loading stopwords: <urlopen error [Errno 11001]\n",
      "[nltk_data]     getaddrinfo failed>\n",
      "[nltk_data] Error loading averaged_perceptron_tagger: <urlopen error\n",
      "[nltk_data]     [Errno 11001] getaddrinfo failed>\n",
      "[nltk_data] Error loading brown: <urlopen error [Errno 11001]\n",
      "[nltk_data]     getaddrinfo failed>\n"
     ]
    },
    {
     "data": {
      "text/plain": [
       "False"
      ]
     },
     "execution_count": 12,
     "metadata": {},
     "output_type": "execute_result"
    }
   ],
   "source": [
    "import nltk\n",
    "nltk.download('punkt')\n",
    "nltk.download('punkt_tab')\n",
    "nltk.download('stopwords')\n",
    "nltk.download('averaged_perceptron_tagger')\n",
    "nltk.download('brown')"
   ]
  },
  {
   "cell_type": "code",
   "execution_count": 13,
   "metadata": {
    "colab": {
     "base_uri": "https://localhost:8080/"
    },
    "executionInfo": {
     "elapsed": 3984,
     "status": "ok",
     "timestamp": 1733547989914,
     "user": {
      "displayName": "Rohan Fardin",
      "userId": "00490590814825719221"
     },
     "user_tz": -360
    },
    "id": "-zfF5AQLlHhr",
    "outputId": "d31bffed-8735-4256-9597-0b265e33a5a0"
   },
   "outputs": [
    {
     "name": "stdout",
     "output_type": "stream",
     "text": [
      "Requirement already satisfied: contractions in i:\\ml\\song recommandation\\venv\\lib\\site-packages (0.1.73)\n",
      "Requirement already satisfied: textsearch>=0.0.21 in i:\\ml\\song recommandation\\venv\\lib\\site-packages (from contractions) (0.0.24)\n",
      "Requirement already satisfied: anyascii in i:\\ml\\song recommandation\\venv\\lib\\site-packages (from textsearch>=0.0.21->contractions) (0.3.2)\n",
      "Requirement already satisfied: pyahocorasick in i:\\ml\\song recommandation\\venv\\lib\\site-packages (from textsearch>=0.0.21->contractions) (2.1.0)\n",
      "Note: you may need to restart the kernel to use updated packages.\n"
     ]
    },
    {
     "name": "stderr",
     "output_type": "stream",
     "text": [
      "\n",
      "[notice] A new release of pip is available: 24.2 -> 24.3.1\n",
      "[notice] To update, run: python.exe -m pip install --upgrade pip\n"
     ]
    }
   ],
   "source": [
    "%pip install contractions\n",
    "import contractions"
   ]
  },
  {
   "cell_type": "code",
   "execution_count": 14,
   "metadata": {
    "executionInfo": {
     "elapsed": 528,
     "status": "ok",
     "timestamp": 1733547990892,
     "user": {
      "displayName": "Rohan Fardin",
      "userId": "00490590814825719221"
     },
     "user_tz": -360
    },
    "id": "L4zE3gWyksL3"
   },
   "outputs": [],
   "source": [
    "df.drop(df[df['language'] != 'en'].index, inplace=True)\n"
   ]
  },
  {
   "cell_type": "code",
   "execution_count": 15,
   "metadata": {
    "id": "wpIXyGqRkz3l"
   },
   "outputs": [],
   "source": [
    "def modify(text):\n",
    "    text = contractions.fix(text)\n",
    "    text = text.replace('\\\\n', ' ')\n",
    "    text = re.sub(r'\\[.*?\\]', '', text)\n",
    "    tokens = word_tokenize(text)\n",
    "    stop_words = set(stopwords.words('english'))\n",
    "\n",
    "    filtered_token = []\n",
    "    for word in tokens:\n",
    "        if word.lower() not in stop_words:\n",
    "            filtered_token.append(word)\n",
    "\n",
    "    token_no_pun = []\n",
    "    for word in filtered_token:\n",
    "        if word not in string.punctuation:\n",
    "            token_no_pun.append(word)\n",
    "\n",
    "    stemmer = PorterStemmer()\n",
    "    stemmed_token = []\n",
    "    for word in token_no_pun:\n",
    "        stemmed_token.append(stemmer.stem(word))\n",
    "\n",
    "    return stemmed_token"
   ]
  },
  {
   "cell_type": "code",
   "execution_count": 16,
   "metadata": {
    "colab": {
     "background_save": true
    },
    "id": "OSDrlZx7k6WR"
   },
   "outputs": [],
   "source": [
    "df['modify_lyrics'] = df['lyrics'].apply(modify)"
   ]
  },
  {
   "cell_type": "code",
   "execution_count": 17,
   "metadata": {
    "colab": {
     "background_save": true
    },
    "id": "ABaIK_ZBlgbY",
    "outputId": "184fb468-9716-4d6f-8c4f-8caf80f621ac"
   },
   "outputs": [
    {
     "data": {
      "text/html": [
       "<div>\n",
       "<style scoped>\n",
       "    .dataframe tbody tr th:only-of-type {\n",
       "        vertical-align: middle;\n",
       "    }\n",
       "\n",
       "    .dataframe tbody tr th {\n",
       "        vertical-align: top;\n",
       "    }\n",
       "\n",
       "    .dataframe thead th {\n",
       "        text-align: right;\n",
       "    }\n",
       "</style>\n",
       "<table border=\"1\" class=\"dataframe\">\n",
       "  <thead>\n",
       "    <tr style=\"text-align: right;\">\n",
       "      <th></th>\n",
       "      <th>title</th>\n",
       "      <th>tag</th>\n",
       "      <th>artist</th>\n",
       "      <th>year</th>\n",
       "      <th>features</th>\n",
       "      <th>lyrics</th>\n",
       "      <th>id</th>\n",
       "      <th>language</th>\n",
       "      <th>N_artist</th>\n",
       "      <th>modify_lyrics</th>\n",
       "    </tr>\n",
       "  </thead>\n",
       "  <tbody>\n",
       "    <tr>\n",
       "      <th>0</th>\n",
       "      <td>Words In Heaven Lost</td>\n",
       "      <td>pop</td>\n",
       "      <td>The Machine In The Garden</td>\n",
       "      <td>1997</td>\n",
       "      <td>None</td>\n",
       "      <td>Words in Heaven LostSincerity in patience\\nWor...</td>\n",
       "      <td>1180319</td>\n",
       "      <td>en</td>\n",
       "      <td>[TheMachineInTheGarden]</td>\n",
       "      <td>[word, heaven, lostsincer, patienc, word, heav...</td>\n",
       "    </tr>\n",
       "    <tr>\n",
       "      <th>1</th>\n",
       "      <td>Litany</td>\n",
       "      <td>pop</td>\n",
       "      <td>Society Burning</td>\n",
       "      <td>2009</td>\n",
       "      <td>None</td>\n",
       "      <td>I wear guilt on my face like rotting flesh\\nMu...</td>\n",
       "      <td>1590683</td>\n",
       "      <td>en</td>\n",
       "      <td>[SocietyBurning]</td>\n",
       "      <td>[wear, guilt, face, like, rot, flesh, mucou, t...</td>\n",
       "    </tr>\n",
       "    <tr>\n",
       "      <th>3</th>\n",
       "      <td>An Overdose of Fun</td>\n",
       "      <td>rock</td>\n",
       "      <td>Liver Killer</td>\n",
       "      <td>2016</td>\n",
       "      <td>None</td>\n",
       "      <td>Wake up! To the real world\\nA fucked up place ...</td>\n",
       "      <td>3685349</td>\n",
       "      <td>en</td>\n",
       "      <td>[LiverKiller]</td>\n",
       "      <td>[wake, real, world, fuck, place, twist, curl, ...</td>\n",
       "    </tr>\n",
       "    <tr>\n",
       "      <th>4</th>\n",
       "      <td>Blown Away</td>\n",
       "      <td>rap</td>\n",
       "      <td>Saigon</td>\n",
       "      <td>2012</td>\n",
       "      <td>None</td>\n",
       "      <td>[Verse 1]\\nMartin Luther King had more than a ...</td>\n",
       "      <td>96900</td>\n",
       "      <td>en</td>\n",
       "      <td>[Saigon]</td>\n",
       "      <td>[martin, luther, king, dream, social, chang, s...</td>\n",
       "    </tr>\n",
       "    <tr>\n",
       "      <th>5</th>\n",
       "      <td>Yellow Raspberry</td>\n",
       "      <td>pop</td>\n",
       "      <td>Xiu Xiu</td>\n",
       "      <td>2005</td>\n",
       "      <td>None</td>\n",
       "      <td>No one will eat him\\nA yellow raspberry\\nPerch...</td>\n",
       "      <td>1179338</td>\n",
       "      <td>en</td>\n",
       "      <td>[XiuXiu]</td>\n",
       "      <td>[one, eat, yellow, raspberri, perch, top, thor...</td>\n",
       "    </tr>\n",
       "    <tr>\n",
       "      <th>6</th>\n",
       "      <td>His Love Was Reaching</td>\n",
       "      <td>pop</td>\n",
       "      <td>David Meece</td>\n",
       "      <td>2015</td>\n",
       "      <td>None</td>\n",
       "      <td>Where should I begin to tell my thoughts\\nWhat...</td>\n",
       "      <td>1191428</td>\n",
       "      <td>en</td>\n",
       "      <td>[DavidMeece]</td>\n",
       "      <td>[begin, tell, thought, say, would, word, need,...</td>\n",
       "    </tr>\n",
       "    <tr>\n",
       "      <th>7</th>\n",
       "      <td>Ambuletz</td>\n",
       "      <td>rock</td>\n",
       "      <td>The Mars Volta</td>\n",
       "      <td>2003</td>\n",
       "      <td>None</td>\n",
       "      <td>Oh lord\\nOh lord, You've made it....\\n\\nYou wa...</td>\n",
       "      <td>1386015</td>\n",
       "      <td>en</td>\n",
       "      <td>[TheMarsVolta]</td>\n",
       "      <td>[oh, lord, oh, lord, made, ...., want, drag, v...</td>\n",
       "    </tr>\n",
       "    <tr>\n",
       "      <th>8</th>\n",
       "      <td>Lethargos</td>\n",
       "      <td>rock</td>\n",
       "      <td>Scarletborn</td>\n",
       "      <td>2017</td>\n",
       "      <td>None</td>\n",
       "      <td>Good morning, New Age\\nThis is a welcome speec...</td>\n",
       "      <td>3616089</td>\n",
       "      <td>en</td>\n",
       "      <td>[Scarletborn]</td>\n",
       "      <td>[good, morn, new, age, welcom, speech, like, o...</td>\n",
       "    </tr>\n",
       "    <tr>\n",
       "      <th>10</th>\n",
       "      <td>Rock My Soul</td>\n",
       "      <td>rock</td>\n",
       "      <td>Chris Rea</td>\n",
       "      <td>2017</td>\n",
       "      <td>None</td>\n",
       "      <td>Well, they sitting in a gridlock\\nWith what's ...</td>\n",
       "      <td>4914965</td>\n",
       "      <td>en</td>\n",
       "      <td>[ChrisRea]</td>\n",
       "      <td>[well, sit, gridlock, left, day, lock, silenc,...</td>\n",
       "    </tr>\n",
       "    <tr>\n",
       "      <th>12</th>\n",
       "      <td>Saudi Most Wanted</td>\n",
       "      <td>rap</td>\n",
       "      <td>Skinny</td>\n",
       "      <td>2022</td>\n",
       "      <td>None</td>\n",
       "      <td>[Intro]\\nYeah !\\n\\n[Chorus]\\nSaudi most wanted...</td>\n",
       "      <td>7769027</td>\n",
       "      <td>en</td>\n",
       "      <td>[Skinny]</td>\n",
       "      <td>[yeah, saudi, want, noth, wo, yeah, spend, bre...</td>\n",
       "    </tr>\n",
       "  </tbody>\n",
       "</table>\n",
       "</div>"
      ],
      "text/plain": [
       "                    title   tag                     artist  year features  \\\n",
       "0    Words In Heaven Lost   pop  The Machine In The Garden  1997     None   \n",
       "1                  Litany   pop            Society Burning  2009     None   \n",
       "3      An Overdose of Fun  rock               Liver Killer  2016     None   \n",
       "4              Blown Away   rap                     Saigon  2012     None   \n",
       "5        Yellow Raspberry   pop                    Xiu Xiu  2005     None   \n",
       "6   His Love Was Reaching   pop                David Meece  2015     None   \n",
       "7                Ambuletz  rock             The Mars Volta  2003     None   \n",
       "8               Lethargos  rock                Scarletborn  2017     None   \n",
       "10           Rock My Soul  rock                  Chris Rea  2017     None   \n",
       "12      Saudi Most Wanted   rap                     Skinny  2022     None   \n",
       "\n",
       "                                               lyrics       id language  \\\n",
       "0   Words in Heaven LostSincerity in patience\\nWor...  1180319       en   \n",
       "1   I wear guilt on my face like rotting flesh\\nMu...  1590683       en   \n",
       "3   Wake up! To the real world\\nA fucked up place ...  3685349       en   \n",
       "4   [Verse 1]\\nMartin Luther King had more than a ...    96900       en   \n",
       "5   No one will eat him\\nA yellow raspberry\\nPerch...  1179338       en   \n",
       "6   Where should I begin to tell my thoughts\\nWhat...  1191428       en   \n",
       "7   Oh lord\\nOh lord, You've made it....\\n\\nYou wa...  1386015       en   \n",
       "8   Good morning, New Age\\nThis is a welcome speec...  3616089       en   \n",
       "10  Well, they sitting in a gridlock\\nWith what's ...  4914965       en   \n",
       "12  [Intro]\\nYeah !\\n\\n[Chorus]\\nSaudi most wanted...  7769027       en   \n",
       "\n",
       "                   N_artist                                      modify_lyrics  \n",
       "0   [TheMachineInTheGarden]  [word, heaven, lostsincer, patienc, word, heav...  \n",
       "1          [SocietyBurning]  [wear, guilt, face, like, rot, flesh, mucou, t...  \n",
       "3             [LiverKiller]  [wake, real, world, fuck, place, twist, curl, ...  \n",
       "4                  [Saigon]  [martin, luther, king, dream, social, chang, s...  \n",
       "5                  [XiuXiu]  [one, eat, yellow, raspberri, perch, top, thor...  \n",
       "6              [DavidMeece]  [begin, tell, thought, say, would, word, need,...  \n",
       "7            [TheMarsVolta]  [oh, lord, oh, lord, made, ...., want, drag, v...  \n",
       "8             [Scarletborn]  [good, morn, new, age, welcom, speech, like, o...  \n",
       "10               [ChrisRea]  [well, sit, gridlock, left, day, lock, silenc,...  \n",
       "12                 [Skinny]  [yeah, saudi, want, noth, wo, yeah, spend, bre...  "
      ]
     },
     "execution_count": 17,
     "metadata": {},
     "output_type": "execute_result"
    }
   ],
   "source": [
    "df.head(10)"
   ]
  },
  {
   "cell_type": "code",
   "execution_count": 19,
   "metadata": {
    "id": "b5v-j31Grfgb"
   },
   "outputs": [],
   "source": [
    "with open('processed_data.pkl', 'wb') as file:\n",
    "    pickle.dump(df, file)"
   ]
  },
  {
   "cell_type": "code",
   "execution_count": 1,
   "metadata": {
    "executionInfo": {
     "elapsed": 941,
     "status": "ok",
     "timestamp": 1733547835807,
     "user": {
      "displayName": "Rohan Fardin",
      "userId": "00490590814825719221"
     },
     "user_tz": -360
    },
    "id": "wqvEryMtr1sJ"
   },
   "outputs": [],
   "source": [
    "import pickle"
   ]
  },
  {
   "cell_type": "code",
   "execution_count": 2,
   "metadata": {
    "colab": {
     "base_uri": "https://localhost:8080/",
     "height": 159
    },
    "executionInfo": {
     "elapsed": 617,
     "status": "error",
     "timestamp": 1733547902258,
     "user": {
      "displayName": "Rohan Fardin",
      "userId": "00490590814825719221"
     },
     "user_tz": -360
    },
    "id": "3bcBA6kfrg35",
    "outputId": "3552ed55-a71e-4172-a455-c6e10c635f1d"
   },
   "outputs": [],
   "source": [
    "with open('processed_data.pkl', 'rb') as file:\n",
    "    df = pickle.load(file)"
   ]
  },
  {
   "cell_type": "code",
   "execution_count": 3,
   "metadata": {
    "colab": {
     "base_uri": "https://localhost:8080/",
     "height": 424
    },
    "executionInfo": {
     "elapsed": 3589,
     "status": "ok",
     "timestamp": 1733511889226,
     "user": {
      "displayName": "Rohan Fardin",
      "userId": "00490590814825719221"
     },
     "user_tz": -360
    },
    "id": "cQONrb9vlpQ4",
    "outputId": "521032ed-edf3-4e3a-89dd-eb86296d50f5"
   },
   "outputs": [
    {
     "data": {
      "text/html": [
       "<div>\n",
       "<style scoped>\n",
       "    .dataframe tbody tr th:only-of-type {\n",
       "        vertical-align: middle;\n",
       "    }\n",
       "\n",
       "    .dataframe tbody tr th {\n",
       "        vertical-align: top;\n",
       "    }\n",
       "\n",
       "    .dataframe thead th {\n",
       "        text-align: right;\n",
       "    }\n",
       "</style>\n",
       "<table border=\"1\" class=\"dataframe\">\n",
       "  <thead>\n",
       "    <tr style=\"text-align: right;\">\n",
       "      <th></th>\n",
       "      <th>title</th>\n",
       "      <th>tag</th>\n",
       "      <th>artist</th>\n",
       "      <th>year</th>\n",
       "      <th>features</th>\n",
       "      <th>lyrics</th>\n",
       "      <th>id</th>\n",
       "      <th>language</th>\n",
       "      <th>N_artist</th>\n",
       "      <th>modify_lyrics</th>\n",
       "    </tr>\n",
       "  </thead>\n",
       "  <tbody>\n",
       "    <tr>\n",
       "      <th>0</th>\n",
       "      <td>Words In Heaven Lost</td>\n",
       "      <td>pop</td>\n",
       "      <td>The Machine In The Garden</td>\n",
       "      <td>1997</td>\n",
       "      <td>None</td>\n",
       "      <td>Words in Heaven LostSincerity in patience\\nWor...</td>\n",
       "      <td>1180319</td>\n",
       "      <td>en</td>\n",
       "      <td>[TheMachineInTheGarden]</td>\n",
       "      <td>[word, heaven, lostsincer, patienc, word, heav...</td>\n",
       "    </tr>\n",
       "    <tr>\n",
       "      <th>1</th>\n",
       "      <td>Litany</td>\n",
       "      <td>pop</td>\n",
       "      <td>Society Burning</td>\n",
       "      <td>2009</td>\n",
       "      <td>None</td>\n",
       "      <td>I wear guilt on my face like rotting flesh\\nMu...</td>\n",
       "      <td>1590683</td>\n",
       "      <td>en</td>\n",
       "      <td>[SocietyBurning]</td>\n",
       "      <td>[wear, guilt, face, like, rot, flesh, mucou, t...</td>\n",
       "    </tr>\n",
       "    <tr>\n",
       "      <th>3</th>\n",
       "      <td>An Overdose of Fun</td>\n",
       "      <td>rock</td>\n",
       "      <td>Liver Killer</td>\n",
       "      <td>2016</td>\n",
       "      <td>None</td>\n",
       "      <td>Wake up! To the real world\\nA fucked up place ...</td>\n",
       "      <td>3685349</td>\n",
       "      <td>en</td>\n",
       "      <td>[LiverKiller]</td>\n",
       "      <td>[wake, real, world, fuck, place, twist, curl, ...</td>\n",
       "    </tr>\n",
       "    <tr>\n",
       "      <th>4</th>\n",
       "      <td>Blown Away</td>\n",
       "      <td>rap</td>\n",
       "      <td>Saigon</td>\n",
       "      <td>2012</td>\n",
       "      <td>None</td>\n",
       "      <td>[Verse 1]\\nMartin Luther King had more than a ...</td>\n",
       "      <td>96900</td>\n",
       "      <td>en</td>\n",
       "      <td>[Saigon]</td>\n",
       "      <td>[martin, luther, king, dream, social, chang, s...</td>\n",
       "    </tr>\n",
       "    <tr>\n",
       "      <th>5</th>\n",
       "      <td>Yellow Raspberry</td>\n",
       "      <td>pop</td>\n",
       "      <td>Xiu Xiu</td>\n",
       "      <td>2005</td>\n",
       "      <td>None</td>\n",
       "      <td>No one will eat him\\nA yellow raspberry\\nPerch...</td>\n",
       "      <td>1179338</td>\n",
       "      <td>en</td>\n",
       "      <td>[XiuXiu]</td>\n",
       "      <td>[one, eat, yellow, raspberri, perch, top, thor...</td>\n",
       "    </tr>\n",
       "    <tr>\n",
       "      <th>...</th>\n",
       "      <td>...</td>\n",
       "      <td>...</td>\n",
       "      <td>...</td>\n",
       "      <td>...</td>\n",
       "      <td>...</td>\n",
       "      <td>...</td>\n",
       "      <td>...</td>\n",
       "      <td>...</td>\n",
       "      <td>...</td>\n",
       "      <td>...</td>\n",
       "    </tr>\n",
       "    <tr>\n",
       "      <th>924266</th>\n",
       "      <td>SCAW</td>\n",
       "      <td>rap</td>\n",
       "      <td>Prince Harvey</td>\n",
       "      <td>2021</td>\n",
       "      <td>None</td>\n",
       "      <td>[Intro: Teleprompter]\\nWelcome to the Departme...</td>\n",
       "      <td>7260564</td>\n",
       "      <td>en</td>\n",
       "      <td>[PrinceHarvey]</td>\n",
       "      <td>[welcom, depart, labor, ’, telephon, servic, l...</td>\n",
       "    </tr>\n",
       "    <tr>\n",
       "      <th>924268</th>\n",
       "      <td>My Little Lover Boy</td>\n",
       "      <td>rb</td>\n",
       "      <td>(Hikaru Utada)</td>\n",
       "      <td>1998</td>\n",
       "      <td>[宇多田ヒカルHikaruUtada]</td>\n",
       "      <td>[Chorus]\\nHe's my little lover boy\\nHe's my li...</td>\n",
       "      <td>1545794</td>\n",
       "      <td>en</td>\n",
       "      <td>[HikaruUtada]</td>\n",
       "      <td>[littl, lover, boy, littl, lover, boy, take, o...</td>\n",
       "    </tr>\n",
       "    <tr>\n",
       "      <th>924270</th>\n",
       "      <td>Hate to Love</td>\n",
       "      <td>rap</td>\n",
       "      <td>King CJ</td>\n",
       "      <td>2021</td>\n",
       "      <td>None</td>\n",
       "      <td>You know I hate to love\\nBut addicted to ya au...</td>\n",
       "      <td>6606241</td>\n",
       "      <td>en</td>\n",
       "      <td>[KingCJ]</td>\n",
       "      <td>[know, hate, love, addict, ya, aura, get, enou...</td>\n",
       "    </tr>\n",
       "    <tr>\n",
       "      <th>924271</th>\n",
       "      <td>Let the 7Horse Run</td>\n",
       "      <td>pop</td>\n",
       "      <td>7Horse</td>\n",
       "      <td>2015</td>\n",
       "      <td>None</td>\n",
       "      <td>Hey now\\nYou're missing my sound\\nIf you wanna...</td>\n",
       "      <td>2234620</td>\n",
       "      <td>en</td>\n",
       "      <td>[7Horse]</td>\n",
       "      <td>[hey, miss, sound, want, get, let, 7hors, run,...</td>\n",
       "    </tr>\n",
       "    <tr>\n",
       "      <th>924273</th>\n",
       "      <td>Bad Love</td>\n",
       "      <td>pop</td>\n",
       "      <td>4 Minutes Later</td>\n",
       "      <td>2019</td>\n",
       "      <td>[LaurElle]</td>\n",
       "      <td>Locked eyes on a Wednesday\\nNight drives to th...</td>\n",
       "      <td>4830330</td>\n",
       "      <td>en</td>\n",
       "      <td>[4MinutesLater]</td>\n",
       "      <td>[lock, eye, wednesday, night, drive, day-break...</td>\n",
       "    </tr>\n",
       "  </tbody>\n",
       "</table>\n",
       "<p>607012 rows × 10 columns</p>\n",
       "</div>"
      ],
      "text/plain": [
       "                       title   tag                     artist  year  \\\n",
       "0       Words In Heaven Lost   pop  The Machine In The Garden  1997   \n",
       "1                     Litany   pop            Society Burning  2009   \n",
       "3         An Overdose of Fun  rock               Liver Killer  2016   \n",
       "4                 Blown Away   rap                     Saigon  2012   \n",
       "5           Yellow Raspberry   pop                    Xiu Xiu  2005   \n",
       "...                      ...   ...                        ...   ...   \n",
       "924266                  SCAW   rap              Prince Harvey  2021   \n",
       "924268   My Little Lover Boy    rb             (Hikaru Utada)  1998   \n",
       "924270          Hate to Love   rap                    King CJ  2021   \n",
       "924271    Let the 7Horse Run   pop                     7Horse  2015   \n",
       "924273              Bad Love   pop            4 Minutes Later  2019   \n",
       "\n",
       "                   features  \\\n",
       "0                      None   \n",
       "1                      None   \n",
       "3                      None   \n",
       "4                      None   \n",
       "5                      None   \n",
       "...                     ...   \n",
       "924266                 None   \n",
       "924268  [宇多田ヒカルHikaruUtada]   \n",
       "924270                 None   \n",
       "924271                 None   \n",
       "924273           [LaurElle]   \n",
       "\n",
       "                                                   lyrics       id language  \\\n",
       "0       Words in Heaven LostSincerity in patience\\nWor...  1180319       en   \n",
       "1       I wear guilt on my face like rotting flesh\\nMu...  1590683       en   \n",
       "3       Wake up! To the real world\\nA fucked up place ...  3685349       en   \n",
       "4       [Verse 1]\\nMartin Luther King had more than a ...    96900       en   \n",
       "5       No one will eat him\\nA yellow raspberry\\nPerch...  1179338       en   \n",
       "...                                                   ...      ...      ...   \n",
       "924266  [Intro: Teleprompter]\\nWelcome to the Departme...  7260564       en   \n",
       "924268  [Chorus]\\nHe's my little lover boy\\nHe's my li...  1545794       en   \n",
       "924270  You know I hate to love\\nBut addicted to ya au...  6606241       en   \n",
       "924271  Hey now\\nYou're missing my sound\\nIf you wanna...  2234620       en   \n",
       "924273  Locked eyes on a Wednesday\\nNight drives to th...  4830330       en   \n",
       "\n",
       "                       N_artist  \\\n",
       "0       [TheMachineInTheGarden]   \n",
       "1              [SocietyBurning]   \n",
       "3                 [LiverKiller]   \n",
       "4                      [Saigon]   \n",
       "5                      [XiuXiu]   \n",
       "...                         ...   \n",
       "924266           [PrinceHarvey]   \n",
       "924268            [HikaruUtada]   \n",
       "924270                 [KingCJ]   \n",
       "924271                 [7Horse]   \n",
       "924273          [4MinutesLater]   \n",
       "\n",
       "                                            modify_lyrics  \n",
       "0       [word, heaven, lostsincer, patienc, word, heav...  \n",
       "1       [wear, guilt, face, like, rot, flesh, mucou, t...  \n",
       "3       [wake, real, world, fuck, place, twist, curl, ...  \n",
       "4       [martin, luther, king, dream, social, chang, s...  \n",
       "5       [one, eat, yellow, raspberri, perch, top, thor...  \n",
       "...                                                   ...  \n",
       "924266  [welcom, depart, labor, ’, telephon, servic, l...  \n",
       "924268  [littl, lover, boy, littl, lover, boy, take, o...  \n",
       "924270  [know, hate, love, addict, ya, aura, get, enou...  \n",
       "924271  [hey, miss, sound, want, get, let, 7hors, run,...  \n",
       "924273  [lock, eye, wednesday, night, drive, day-break...  \n",
       "\n",
       "[607012 rows x 10 columns]"
      ]
     },
     "execution_count": 3,
     "metadata": {},
     "output_type": "execute_result"
    }
   ],
   "source": [
    "df[df['features'].apply(lambda x: x != [])]"
   ]
  },
  {
   "cell_type": "code",
   "execution_count": 4,
   "metadata": {
    "id": "44o2-u5Cl3k8"
   },
   "outputs": [],
   "source": [
    "import ast\n",
    "\n",
    "def convert_to_list(value):\n",
    "    if isinstance(value, str):\n",
    "        try:\n",
    "            return ast.literal_eval(value)\n",
    "        except:\n",
    "            return []\n",
    "    return value\n",
    "\n",
    "df['features'] = df['features'].apply(convert_to_list)\n",
    "df['N_artist'] = df['N_artist'].apply(convert_to_list)"
   ]
  },
  {
   "cell_type": "code",
   "execution_count": null,
   "metadata": {},
   "outputs": [
    {
     "data": {
      "text/plain": [
       "0         <class 'NoneType'>\n",
       "1         <class 'NoneType'>\n",
       "3         <class 'NoneType'>\n",
       "4         <class 'NoneType'>\n",
       "5         <class 'NoneType'>\n",
       "                 ...        \n",
       "924266    <class 'NoneType'>\n",
       "924268        <class 'list'>\n",
       "924270    <class 'NoneType'>\n",
       "924271    <class 'NoneType'>\n",
       "924273        <class 'list'>\n",
       "Name: features, Length: 607012, dtype: object"
      ]
     },
     "execution_count": 6,
     "metadata": {},
     "output_type": "execute_result"
    }
   ],
   "source": [
    "df['features'].apply(type)"
   ]
  },
  {
   "cell_type": "code",
   "execution_count": 5,
   "metadata": {},
   "outputs": [],
   "source": [
    "df['features'] = df['features'].apply(lambda x: x if isinstance(x, list) else [])\n"
   ]
  },
  {
   "cell_type": "code",
   "execution_count": 6,
   "metadata": {},
   "outputs": [],
   "source": [
    "df['combined'] = df.apply(lambda row: row['N_artist'] + row['features'], axis=1)\n"
   ]
  },
  {
   "cell_type": "code",
   "execution_count": 7,
   "metadata": {},
   "outputs": [
    {
     "data": {
      "text/plain": [
       "0                  [TheMachineInTheGarden]\n",
       "1                         [SocietyBurning]\n",
       "3                            [LiverKiller]\n",
       "4                                 [Saigon]\n",
       "5                                 [XiuXiu]\n",
       "                        ...               \n",
       "924266                      [PrinceHarvey]\n",
       "924268    [HikaruUtada, 宇多田ヒカルHikaruUtada]\n",
       "924270                            [KingCJ]\n",
       "924271                            [7Horse]\n",
       "924273           [4MinutesLater, LaurElle]\n",
       "Name: combined, Length: 607012, dtype: object"
      ]
     },
     "execution_count": 7,
     "metadata": {},
     "output_type": "execute_result"
    }
   ],
   "source": [
    "df['combined']"
   ]
  },
  {
   "cell_type": "code",
   "execution_count": 9,
   "metadata": {},
   "outputs": [
    {
     "data": {
      "text/plain": [
       "array([<class 'list'>], dtype=object)"
      ]
     },
     "execution_count": 9,
     "metadata": {},
     "output_type": "execute_result"
    }
   ],
   "source": [
    "df['modify_lyrics'].apply(type).unique()"
   ]
  },
  {
   "cell_type": "code",
   "execution_count": 10,
   "metadata": {},
   "outputs": [],
   "source": [
    "df['combined_all'] = df['combined'].apply(lambda x: ' '.join(x)) + ' ' + df['tag'].apply(lambda x: ' '.join(x)) + ' ' + df['modify_lyrics'].apply(lambda x: ' '.join(x))\n"
   ]
  },
  {
   "cell_type": "code",
   "execution_count": 11,
   "metadata": {},
   "outputs": [],
   "source": [
    "df['combined_all'] = df['combined_all'].str.lower()"
   ]
  },
  {
   "cell_type": "code",
   "execution_count": 12,
   "metadata": {},
   "outputs": [
    {
     "data": {
      "text/html": [
       "<div>\n",
       "<style scoped>\n",
       "    .dataframe tbody tr th:only-of-type {\n",
       "        vertical-align: middle;\n",
       "    }\n",
       "\n",
       "    .dataframe tbody tr th {\n",
       "        vertical-align: top;\n",
       "    }\n",
       "\n",
       "    .dataframe thead th {\n",
       "        text-align: right;\n",
       "    }\n",
       "</style>\n",
       "<table border=\"1\" class=\"dataframe\">\n",
       "  <thead>\n",
       "    <tr style=\"text-align: right;\">\n",
       "      <th></th>\n",
       "      <th>title</th>\n",
       "      <th>tag</th>\n",
       "      <th>artist</th>\n",
       "      <th>year</th>\n",
       "      <th>features</th>\n",
       "      <th>lyrics</th>\n",
       "      <th>id</th>\n",
       "      <th>language</th>\n",
       "      <th>N_artist</th>\n",
       "      <th>modify_lyrics</th>\n",
       "      <th>combined</th>\n",
       "      <th>combined_all</th>\n",
       "    </tr>\n",
       "  </thead>\n",
       "  <tbody>\n",
       "    <tr>\n",
       "      <th>0</th>\n",
       "      <td>Words In Heaven Lost</td>\n",
       "      <td>pop</td>\n",
       "      <td>The Machine In The Garden</td>\n",
       "      <td>1997</td>\n",
       "      <td>[]</td>\n",
       "      <td>Words in Heaven LostSincerity in patience\\nWor...</td>\n",
       "      <td>1180319</td>\n",
       "      <td>en</td>\n",
       "      <td>[TheMachineInTheGarden]</td>\n",
       "      <td>[word, heaven, lostsincer, patienc, word, heav...</td>\n",
       "      <td>[TheMachineInTheGarden]</td>\n",
       "      <td>themachineinthegarden p o p word heaven lostsi...</td>\n",
       "    </tr>\n",
       "  </tbody>\n",
       "</table>\n",
       "</div>"
      ],
      "text/plain": [
       "                  title  tag                     artist  year features  \\\n",
       "0  Words In Heaven Lost  pop  The Machine In The Garden  1997       []   \n",
       "\n",
       "                                              lyrics       id language  \\\n",
       "0  Words in Heaven LostSincerity in patience\\nWor...  1180319       en   \n",
       "\n",
       "                  N_artist                                      modify_lyrics  \\\n",
       "0  [TheMachineInTheGarden]  [word, heaven, lostsincer, patienc, word, heav...   \n",
       "\n",
       "                  combined                                       combined_all  \n",
       "0  [TheMachineInTheGarden]  themachineinthegarden p o p word heaven lostsi...  "
      ]
     },
     "execution_count": 12,
     "metadata": {},
     "output_type": "execute_result"
    }
   ],
   "source": [
    "df.head(1)"
   ]
  },
  {
   "cell_type": "code",
   "execution_count": 13,
   "metadata": {
    "id": "P6tCOgx5mtC4"
   },
   "outputs": [],
   "source": [
    "df.drop(columns= ['N_artist','features','modify_lyrics','combined','year','id', 'language'], inplace=True)"
   ]
  },
  {
   "cell_type": "code",
   "execution_count": 14,
   "metadata": {
    "id": "WpgjqoSRmvaD"
   },
   "outputs": [],
   "source": [
    "from sklearn.feature_extraction.text import TfidfVectorizer\n",
    "from sklearn.metrics.pairwise import cosine_similarity"
   ]
  },
  {
   "cell_type": "code",
   "execution_count": 15,
   "metadata": {
    "id": "eNyW2Y7fnGKA"
   },
   "outputs": [],
   "source": [
    "vectorizer = TfidfVectorizer(max_features= 7000,stop_words='english')\n",
    "vector = vectorizer.fit_transform(df['combined_all'])"
   ]
  },
  {
   "cell_type": "code",
   "execution_count": 16,
   "metadata": {
    "id": "8dWoZ5JUnGvC"
   },
   "outputs": [],
   "source": [
    "def recommend(song):\n",
    "    if song not in df['title'].values:\n",
    "        print(f\"'{song}' is not found in the dataset.\")\n",
    "        return\n",
    "\n",
    "    try:\n",
    "        song_index = df[df['title'] == song].index[0]\n",
    "        distances = cosine_similarity(vector[song_index].reshape(1, -1), vector)[0]\n",
    "        songs_list = sorted(list(enumerate(distances)), reverse=True, key=lambda x: x[1])[:21]\n",
    "        print(f\"Recommendations for '{song}':\")\n",
    "\n",
    "        for i in songs_list:\n",
    "            if i[0] != song_index:\n",
    "                print(df.iloc[i[0]].title)\n",
    "    except Exception as e:\n",
    "        print(\"An error occurred:\", e)"
   ]
  },
  {
   "cell_type": "code",
   "execution_count": null,
   "metadata": {
    "id": "pXBWOC12nGxV"
   },
   "outputs": [
    {
     "name": "stdout",
     "output_type": "stream",
     "text": [
      "Recommendations for 'Raptured':\n",
      "Novocaine\n",
      "More Than Words\n",
      "The Reason Why\n",
      "The Reason Why version I\n",
      "Numb\n",
      "Change You\n",
      "Swiss\n",
      "​w o r d s\n",
      "Last Bus Change\n",
      "Wish You Wouldnt\n",
      "More Than Words\n",
      "All the Best\n",
      "I Wish I Knew\n",
      "All the Best\n",
      "Turn Around\n",
      "Words\n",
      "Dont U Eva\n",
      "Dont Call Me\n",
      "Not One Word\n",
      "N.SS\n"
     ]
    }
   ],
   "source": [
    "recommend('Raptured')"
   ]
  },
  {
   "cell_type": "code",
   "execution_count": 2,
   "metadata": {},
   "outputs": [],
   "source": [
    "import pickle"
   ]
  },
  {
   "cell_type": "code",
   "execution_count": null,
   "metadata": {},
   "outputs": [],
   "source": [
    "pickle.dump(df.to_dict(),open('songs_dict.pkl', 'wb'))"
   ]
  },
  {
   "cell_type": "code",
   "execution_count": 11,
   "metadata": {},
   "outputs": [],
   "source": [
    "songs_dict = pickle.load(open('songs_dict.pkl', 'rb'))"
   ]
  },
  {
   "cell_type": "code",
   "execution_count": 8,
   "metadata": {},
   "outputs": [],
   "source": [
    "import pandas as pd\n",
    "df = pd.DataFrame(songs_dict)"
   ]
  },
  {
   "cell_type": "code",
   "execution_count": 9,
   "metadata": {},
   "outputs": [
    {
     "data": {
      "text/html": [
       "<div>\n",
       "<style scoped>\n",
       "    .dataframe tbody tr th:only-of-type {\n",
       "        vertical-align: middle;\n",
       "    }\n",
       "\n",
       "    .dataframe tbody tr th {\n",
       "        vertical-align: top;\n",
       "    }\n",
       "\n",
       "    .dataframe thead th {\n",
       "        text-align: right;\n",
       "    }\n",
       "</style>\n",
       "<table border=\"1\" class=\"dataframe\">\n",
       "  <thead>\n",
       "    <tr style=\"text-align: right;\">\n",
       "      <th></th>\n",
       "      <th>title</th>\n",
       "      <th>tag</th>\n",
       "      <th>artist</th>\n",
       "      <th>lyrics</th>\n",
       "      <th>combined_all</th>\n",
       "    </tr>\n",
       "  </thead>\n",
       "  <tbody>\n",
       "    <tr>\n",
       "      <th>0</th>\n",
       "      <td>Words In Heaven Lost</td>\n",
       "      <td>pop</td>\n",
       "      <td>The Machine In The Garden</td>\n",
       "      <td>Words in Heaven LostSincerity in patience\\nWor...</td>\n",
       "      <td>themachineinthegarden p o p word heaven lostsi...</td>\n",
       "    </tr>\n",
       "    <tr>\n",
       "      <th>1</th>\n",
       "      <td>Litany</td>\n",
       "      <td>pop</td>\n",
       "      <td>Society Burning</td>\n",
       "      <td>I wear guilt on my face like rotting flesh\\nMu...</td>\n",
       "      <td>societyburning p o p wear guilt face like rot ...</td>\n",
       "    </tr>\n",
       "    <tr>\n",
       "      <th>3</th>\n",
       "      <td>An Overdose of Fun</td>\n",
       "      <td>rock</td>\n",
       "      <td>Liver Killer</td>\n",
       "      <td>Wake up! To the real world\\nA fucked up place ...</td>\n",
       "      <td>liverkiller r o c k wake real world fuck place...</td>\n",
       "    </tr>\n",
       "    <tr>\n",
       "      <th>4</th>\n",
       "      <td>Blown Away</td>\n",
       "      <td>rap</td>\n",
       "      <td>Saigon</td>\n",
       "      <td>[Verse 1]\\nMartin Luther King had more than a ...</td>\n",
       "      <td>saigon r a p martin luther king dream social c...</td>\n",
       "    </tr>\n",
       "    <tr>\n",
       "      <th>5</th>\n",
       "      <td>Yellow Raspberry</td>\n",
       "      <td>pop</td>\n",
       "      <td>Xiu Xiu</td>\n",
       "      <td>No one will eat him\\nA yellow raspberry\\nPerch...</td>\n",
       "      <td>xiuxiu p o p one eat yellow raspberri perch to...</td>\n",
       "    </tr>\n",
       "    <tr>\n",
       "      <th>6</th>\n",
       "      <td>His Love Was Reaching</td>\n",
       "      <td>pop</td>\n",
       "      <td>David Meece</td>\n",
       "      <td>Where should I begin to tell my thoughts\\nWhat...</td>\n",
       "      <td>davidmeece p o p begin tell thought say would ...</td>\n",
       "    </tr>\n",
       "    <tr>\n",
       "      <th>7</th>\n",
       "      <td>Ambuletz</td>\n",
       "      <td>rock</td>\n",
       "      <td>The Mars Volta</td>\n",
       "      <td>Oh lord\\nOh lord, You've made it....\\n\\nYou wa...</td>\n",
       "      <td>themarsvolta r o c k oh lord oh lord made .......</td>\n",
       "    </tr>\n",
       "    <tr>\n",
       "      <th>8</th>\n",
       "      <td>Lethargos</td>\n",
       "      <td>rock</td>\n",
       "      <td>Scarletborn</td>\n",
       "      <td>Good morning, New Age\\nThis is a welcome speec...</td>\n",
       "      <td>scarletborn r o c k good morn new age welcom s...</td>\n",
       "    </tr>\n",
       "    <tr>\n",
       "      <th>10</th>\n",
       "      <td>Rock My Soul</td>\n",
       "      <td>rock</td>\n",
       "      <td>Chris Rea</td>\n",
       "      <td>Well, they sitting in a gridlock\\nWith what's ...</td>\n",
       "      <td>chrisrea r o c k well sit gridlock left day lo...</td>\n",
       "    </tr>\n",
       "    <tr>\n",
       "      <th>12</th>\n",
       "      <td>Saudi Most Wanted</td>\n",
       "      <td>rap</td>\n",
       "      <td>Skinny</td>\n",
       "      <td>[Intro]\\nYeah !\\n\\n[Chorus]\\nSaudi most wanted...</td>\n",
       "      <td>skinny r a p yeah saudi want noth wo yeah spen...</td>\n",
       "    </tr>\n",
       "  </tbody>\n",
       "</table>\n",
       "</div>"
      ],
      "text/plain": [
       "                    title   tag                     artist  \\\n",
       "0    Words In Heaven Lost   pop  The Machine In The Garden   \n",
       "1                  Litany   pop            Society Burning   \n",
       "3      An Overdose of Fun  rock               Liver Killer   \n",
       "4              Blown Away   rap                     Saigon   \n",
       "5        Yellow Raspberry   pop                    Xiu Xiu   \n",
       "6   His Love Was Reaching   pop                David Meece   \n",
       "7                Ambuletz  rock             The Mars Volta   \n",
       "8               Lethargos  rock                Scarletborn   \n",
       "10           Rock My Soul  rock                  Chris Rea   \n",
       "12      Saudi Most Wanted   rap                     Skinny   \n",
       "\n",
       "                                               lyrics  \\\n",
       "0   Words in Heaven LostSincerity in patience\\nWor...   \n",
       "1   I wear guilt on my face like rotting flesh\\nMu...   \n",
       "3   Wake up! To the real world\\nA fucked up place ...   \n",
       "4   [Verse 1]\\nMartin Luther King had more than a ...   \n",
       "5   No one will eat him\\nA yellow raspberry\\nPerch...   \n",
       "6   Where should I begin to tell my thoughts\\nWhat...   \n",
       "7   Oh lord\\nOh lord, You've made it....\\n\\nYou wa...   \n",
       "8   Good morning, New Age\\nThis is a welcome speec...   \n",
       "10  Well, they sitting in a gridlock\\nWith what's ...   \n",
       "12  [Intro]\\nYeah !\\n\\n[Chorus]\\nSaudi most wanted...   \n",
       "\n",
       "                                         combined_all  \n",
       "0   themachineinthegarden p o p word heaven lostsi...  \n",
       "1   societyburning p o p wear guilt face like rot ...  \n",
       "3   liverkiller r o c k wake real world fuck place...  \n",
       "4   saigon r a p martin luther king dream social c...  \n",
       "5   xiuxiu p o p one eat yellow raspberri perch to...  \n",
       "6   davidmeece p o p begin tell thought say would ...  \n",
       "7   themarsvolta r o c k oh lord oh lord made .......  \n",
       "8   scarletborn r o c k good morn new age welcom s...  \n",
       "10  chrisrea r o c k well sit gridlock left day lo...  \n",
       "12  skinny r a p yeah saudi want noth wo yeah spen...  "
      ]
     },
     "execution_count": 9,
     "metadata": {},
     "output_type": "execute_result"
    }
   ],
   "source": [
    "df.head(10)"
   ]
  },
  {
   "cell_type": "code",
   "execution_count": null,
   "metadata": {},
   "outputs": [],
   "source": []
  }
 ],
 "metadata": {
  "colab": {
   "authorship_tag": "ABX9TyPHpKqYwmmEvR2eFN1fFQjV",
   "provenance": []
  },
  "kernelspec": {
   "display_name": "Python 3",
   "language": "python",
   "name": "python3"
  },
  "language_info": {
   "codemirror_mode": {
    "name": "ipython",
    "version": 3
   },
   "file_extension": ".py",
   "mimetype": "text/x-python",
   "name": "python",
   "nbconvert_exporter": "python",
   "pygments_lexer": "ipython3",
   "version": "3.12.6"
  }
 },
 "nbformat": 4,
 "nbformat_minor": 0
}
