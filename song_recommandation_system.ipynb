{
 "cells": [
  {
   "cell_type": "code",
   "execution_count": 3,
   "metadata": {
    "executionInfo": {
     "elapsed": 770,
     "status": "ok",
     "timestamp": 1733547853872,
     "user": {
      "displayName": "Rohan Fardin",
      "userId": "00490590814825719221"
     },
     "user_tz": -360
    },
    "id": "NKfZlxGlXJp7"
   },
   "outputs": [
    {
     "ename": "ImportError",
     "evalue": "Unable to import required dependencies:\nnumpy: Error importing numpy: you should not try to import numpy from\n        its source directory; please exit the numpy source tree, and relaunch\n        your python interpreter from there.",
     "output_type": "error",
     "traceback": [
      "\u001b[1;31m---------------------------------------------------------------------------\u001b[0m",
      "\u001b[1;31mImportError\u001b[0m                               Traceback (most recent call last)",
      "Cell \u001b[1;32mIn[3], line 1\u001b[0m\n\u001b[1;32m----> 1\u001b[0m \u001b[38;5;28;01mimport\u001b[39;00m \u001b[38;5;21;01mpandas\u001b[39;00m \u001b[38;5;28;01mas\u001b[39;00m \u001b[38;5;21;01mpd\u001b[39;00m\n\u001b[0;32m      2\u001b[0m \u001b[38;5;28;01mimport\u001b[39;00m \u001b[38;5;21;01mnumpy\u001b[39;00m \u001b[38;5;28;01mas\u001b[39;00m \u001b[38;5;21;01mnp\u001b[39;00m\n\u001b[0;32m      3\u001b[0m \u001b[38;5;28;01mimport\u001b[39;00m \u001b[38;5;21;01mre\u001b[39;00m\n",
      "File \u001b[1;32mc:\\Users\\USER\\AppData\\Local\\Programs\\Python\\Python39\\Lib\\site-packages\\pandas\\__init__.py:32\u001b[0m\n\u001b[0;32m     29\u001b[0m         _missing_dependencies\u001b[38;5;241m.\u001b[39mappend(\u001b[38;5;124mf\u001b[39m\u001b[38;5;124m\"\u001b[39m\u001b[38;5;132;01m{\u001b[39;00m_dependency\u001b[38;5;132;01m}\u001b[39;00m\u001b[38;5;124m: \u001b[39m\u001b[38;5;132;01m{\u001b[39;00m_e\u001b[38;5;132;01m}\u001b[39;00m\u001b[38;5;124m\"\u001b[39m)\n\u001b[0;32m     31\u001b[0m \u001b[38;5;28;01mif\u001b[39;00m _missing_dependencies:  \u001b[38;5;66;03m# pragma: no cover\u001b[39;00m\n\u001b[1;32m---> 32\u001b[0m     \u001b[38;5;28;01mraise\u001b[39;00m \u001b[38;5;167;01mImportError\u001b[39;00m(\n\u001b[0;32m     33\u001b[0m         \u001b[38;5;124m\"\u001b[39m\u001b[38;5;124mUnable to import required dependencies:\u001b[39m\u001b[38;5;130;01m\\n\u001b[39;00m\u001b[38;5;124m\"\u001b[39m \u001b[38;5;241m+\u001b[39m \u001b[38;5;124m\"\u001b[39m\u001b[38;5;130;01m\\n\u001b[39;00m\u001b[38;5;124m\"\u001b[39m\u001b[38;5;241m.\u001b[39mjoin(_missing_dependencies)\n\u001b[0;32m     34\u001b[0m     )\n\u001b[0;32m     35\u001b[0m \u001b[38;5;28;01mdel\u001b[39;00m _hard_dependencies, _dependency, _missing_dependencies\n\u001b[0;32m     37\u001b[0m \u001b[38;5;28;01mtry\u001b[39;00m:\n\u001b[0;32m     38\u001b[0m     \u001b[38;5;66;03m# numpy compat\u001b[39;00m\n",
      "\u001b[1;31mImportError\u001b[0m: Unable to import required dependencies:\nnumpy: Error importing numpy: you should not try to import numpy from\n        its source directory; please exit the numpy source tree, and relaunch\n        your python interpreter from there."
     ]
    }
   ],
   "source": [
    "import pandas as pd\n",
    "import numpy as np\n",
    "import re\n",
    "import pickle"
   ]
  },
  {
   "cell_type": "code",
   "execution_count": null,
   "metadata": {
    "executionInfo": {
     "elapsed": 42873,
     "status": "ok",
     "timestamp": 1733547974420,
     "user": {
      "displayName": "Rohan Fardin",
      "userId": "00490590814825719221"
     },
     "user_tz": -360
    },
    "id": "vwky6uePftzb"
   },
   "outputs": [],
   "source": [
    "df = pd.read_csv('song_lyrics_smaller.csv')"
   ]
  },
  {
   "cell_type": "code",
   "execution_count": null,
   "metadata": {
    "executionInfo": {
     "elapsed": 4,
     "status": "ok",
     "timestamp": 1733547974421,
     "user": {
      "displayName": "Rohan Fardin",
      "userId": "00490590814825719221"
     },
     "user_tz": -360
    },
    "id": "gBlSehChf2Lb"
   },
   "outputs": [],
   "source": [
    "df.drop(columns=['views','language_cld3', 'language_ft'], inplace=True)\n"
   ]
  },
  {
   "cell_type": "code",
   "execution_count": null,
   "metadata": {
    "executionInfo": {
     "elapsed": 4,
     "status": "ok",
     "timestamp": 1733547975121,
     "user": {
      "displayName": "Rohan Fardin",
      "userId": "00490590814825719221"
     },
     "user_tz": -360
    },
    "id": "MKjrTyPWjFDY"
   },
   "outputs": [],
   "source": [
    "df.dropna(axis=0, inplace=True)"
   ]
  },
  {
   "cell_type": "code",
   "execution_count": null,
   "metadata": {
    "executionInfo": {
     "elapsed": 3,
     "status": "ok",
     "timestamp": 1733547975121,
     "user": {
      "displayName": "Rohan Fardin",
      "userId": "00490590814825719221"
     },
     "user_tz": -360
    },
    "id": "YDjKqjWBjT_f"
   },
   "outputs": [],
   "source": [
    "def clean_features(value):\n",
    "    value = re.sub(r'[{}()\"]', '', value)\n",
    "    value = value.encode('utf-8').decode('utf-8', errors='ignore')\n",
    "    if not value:\n",
    "        return None\n",
    "    return [v.strip().replace(\" \", \"\") for v in value.split(',')]"
   ]
  },
  {
   "cell_type": "code",
   "execution_count": null,
   "metadata": {
    "executionInfo": {
     "elapsed": 1968,
     "status": "ok",
     "timestamp": 1733547977086,
     "user": {
      "displayName": "Rohan Fardin",
      "userId": "00490590814825719221"
     },
     "user_tz": -360
    },
    "id": "NZlhbz6rjfNa"
   },
   "outputs": [],
   "source": [
    "df['features'] = df['features'].apply(clean_features)"
   ]
  },
  {
   "cell_type": "code",
   "execution_count": null,
   "metadata": {
    "executionInfo": {
     "elapsed": 2891,
     "status": "ok",
     "timestamp": 1733547979974,
     "user": {
      "displayName": "Rohan Fardin",
      "userId": "00490590814825719221"
     },
     "user_tz": -360
    },
    "id": "snvfm5d4jg7A"
   },
   "outputs": [],
   "source": [
    "df['N_artist'] = df['artist'].apply(clean_features)"
   ]
  },
  {
   "cell_type": "code",
   "execution_count": null,
   "metadata": {
    "executionInfo": {
     "elapsed": 4619,
     "status": "ok",
     "timestamp": 1733547984590,
     "user": {
      "displayName": "Rohan Fardin",
      "userId": "00490590814825719221"
     },
     "user_tz": -360
    },
    "id": "-R-Tuvkdjm6-"
   },
   "outputs": [],
   "source": [
    "from nltk.corpus import stopwords\n",
    "from nltk.tokenize import word_tokenize\n",
    "from nltk.corpus import stopwords\n",
    "from nltk.stem import PorterStemmer\n",
    "import string"
   ]
  },
  {
   "cell_type": "code",
   "execution_count": null,
   "metadata": {
    "colab": {
     "base_uri": "https://localhost:8080/"
    },
    "executionInfo": {
     "elapsed": 1360,
     "status": "ok",
     "timestamp": 1733547985934,
     "user": {
      "displayName": "Rohan Fardin",
      "userId": "00490590814825719221"
     },
     "user_tz": -360
    },
    "id": "ggIq_MtsjmzT",
    "outputId": "5e441d2f-557b-409f-885d-a7b166220a23"
   },
   "outputs": [],
   "source": [
    "import nltk\n",
    "nltk.download('punkt')\n",
    "nltk.download('punkt_tab')\n",
    "nltk.download('stopwords')\n",
    "nltk.download('averaged_perceptron_tagger')\n",
    "nltk.download('brown')"
   ]
  },
  {
   "cell_type": "code",
   "execution_count": null,
   "metadata": {
    "colab": {
     "base_uri": "https://localhost:8080/"
    },
    "executionInfo": {
     "elapsed": 3984,
     "status": "ok",
     "timestamp": 1733547989914,
     "user": {
      "displayName": "Rohan Fardin",
      "userId": "00490590814825719221"
     },
     "user_tz": -360
    },
    "id": "-zfF5AQLlHhr",
    "outputId": "d31bffed-8735-4256-9597-0b265e33a5a0"
   },
   "outputs": [],
   "source": [
    "%pip install contractions\n",
    "import contractions"
   ]
  },
  {
   "cell_type": "code",
   "execution_count": null,
   "metadata": {
    "executionInfo": {
     "elapsed": 528,
     "status": "ok",
     "timestamp": 1733547990892,
     "user": {
      "displayName": "Rohan Fardin",
      "userId": "00490590814825719221"
     },
     "user_tz": -360
    },
    "id": "L4zE3gWyksL3"
   },
   "outputs": [],
   "source": [
    "df.drop(df[df['language'] != 'en'].index, inplace=True)\n"
   ]
  },
  {
   "cell_type": "code",
   "execution_count": null,
   "metadata": {
    "id": "wpIXyGqRkz3l"
   },
   "outputs": [],
   "source": [
    "def modify(text):\n",
    "    text = contractions.fix(text)\n",
    "    text = text.replace('\\\\n', ' ')\n",
    "    text = re.sub(r'\\[.*?\\]', '', text)\n",
    "    tokens = word_tokenize(text)\n",
    "    stop_words = set(stopwords.words('english'))\n",
    "\n",
    "    filtered_token = []\n",
    "    for word in tokens:\n",
    "        if word.lower() not in stop_words:\n",
    "            filtered_token.append(word)\n",
    "\n",
    "    token_no_pun = []\n",
    "    for word in filtered_token:\n",
    "        if word not in string.punctuation:\n",
    "            token_no_pun.append(word)\n",
    "\n",
    "    stemmer = PorterStemmer()\n",
    "    stemmed_token = []\n",
    "    for word in token_no_pun:\n",
    "        stemmed_token.append(stemmer.stem(word))\n",
    "\n",
    "    return stemmed_token"
   ]
  },
  {
   "cell_type": "code",
   "execution_count": null,
   "metadata": {
    "colab": {
     "background_save": true
    },
    "id": "OSDrlZx7k6WR"
   },
   "outputs": [],
   "source": [
    "df['modify_lyrics'] = df['lyrics'].apply(modify)"
   ]
  },
  {
   "cell_type": "code",
   "execution_count": null,
   "metadata": {
    "colab": {
     "background_save": true
    },
    "id": "ABaIK_ZBlgbY",
    "outputId": "184fb468-9716-4d6f-8c4f-8caf80f621ac"
   },
   "outputs": [],
   "source": [
    "df.head(10)"
   ]
  },
  {
   "cell_type": "code",
   "execution_count": null,
   "metadata": {
    "id": "b5v-j31Grfgb"
   },
   "outputs": [],
   "source": [
    "with open('processed_data.pkl', 'wb') as file:\n",
    "    pickle.dump(df, file)"
   ]
  },
  {
   "cell_type": "code",
   "execution_count": null,
   "metadata": {
    "executionInfo": {
     "elapsed": 941,
     "status": "ok",
     "timestamp": 1733547835807,
     "user": {
      "displayName": "Rohan Fardin",
      "userId": "00490590814825719221"
     },
     "user_tz": -360
    },
    "id": "wqvEryMtr1sJ"
   },
   "outputs": [],
   "source": [
    "import pickle"
   ]
  },
  {
   "cell_type": "code",
   "execution_count": null,
   "metadata": {
    "colab": {
     "base_uri": "https://localhost:8080/",
     "height": 159
    },
    "executionInfo": {
     "elapsed": 617,
     "status": "error",
     "timestamp": 1733547902258,
     "user": {
      "displayName": "Rohan Fardin",
      "userId": "00490590814825719221"
     },
     "user_tz": -360
    },
    "id": "3bcBA6kfrg35",
    "outputId": "3552ed55-a71e-4172-a455-c6e10c635f1d"
   },
   "outputs": [],
   "source": [
    "with open('processed_data.pkl', 'rb') as file:\n",
    "    df = pickle.load(file)"
   ]
  },
  {
   "cell_type": "code",
   "execution_count": null,
   "metadata": {
    "colab": {
     "base_uri": "https://localhost:8080/",
     "height": 424
    },
    "executionInfo": {
     "elapsed": 3589,
     "status": "ok",
     "timestamp": 1733511889226,
     "user": {
      "displayName": "Rohan Fardin",
      "userId": "00490590814825719221"
     },
     "user_tz": -360
    },
    "id": "cQONrb9vlpQ4",
    "outputId": "521032ed-edf3-4e3a-89dd-eb86296d50f5"
   },
   "outputs": [],
   "source": [
    "df[df['features'].apply(lambda x: x != [])]"
   ]
  },
  {
   "cell_type": "code",
   "execution_count": null,
   "metadata": {
    "id": "44o2-u5Cl3k8"
   },
   "outputs": [],
   "source": [
    "import ast\n",
    "\n",
    "def convert_to_list(value):\n",
    "    if isinstance(value, str):\n",
    "        try:\n",
    "            return ast.literal_eval(value)\n",
    "        except:\n",
    "            return []\n",
    "    return value\n",
    "\n",
    "df['features'] = df['features'].apply(convert_to_list)\n",
    "df['N_artist'] = df['N_artist'].apply(convert_to_list)"
   ]
  },
  {
   "cell_type": "code",
   "execution_count": null,
   "metadata": {},
   "outputs": [],
   "source": [
    "df['features'].apply(type)"
   ]
  },
  {
   "cell_type": "code",
   "execution_count": null,
   "metadata": {},
   "outputs": [],
   "source": [
    "df['features'] = df['features'].apply(lambda x: x if isinstance(x, list) else [])\n"
   ]
  },
  {
   "cell_type": "code",
   "execution_count": null,
   "metadata": {},
   "outputs": [],
   "source": [
    "df['combined'] = df.apply(lambda row: row['N_artist'] + row['features'], axis=1)\n"
   ]
  },
  {
   "cell_type": "code",
   "execution_count": null,
   "metadata": {},
   "outputs": [],
   "source": [
    "df['combined']"
   ]
  },
  {
   "cell_type": "code",
   "execution_count": null,
   "metadata": {},
   "outputs": [],
   "source": [
    "df['modify_lyrics'].apply(type).unique()"
   ]
  },
  {
   "cell_type": "code",
   "execution_count": null,
   "metadata": {},
   "outputs": [],
   "source": [
    "df['combined_all'] = df['combined'].apply(lambda x: ' '.join(x)) + ' ' + df['tag'].apply(lambda x: ' '.join(x)) + ' ' + df['modify_lyrics'].apply(lambda x: ' '.join(x))\n"
   ]
  },
  {
   "cell_type": "code",
   "execution_count": null,
   "metadata": {},
   "outputs": [],
   "source": [
    "df['combined_all'] = df['combined_all'].str.lower()"
   ]
  },
  {
   "cell_type": "code",
   "execution_count": null,
   "metadata": {},
   "outputs": [],
   "source": [
    "df.head(1)"
   ]
  },
  {
   "cell_type": "code",
   "execution_count": null,
   "metadata": {
    "id": "P6tCOgx5mtC4"
   },
   "outputs": [],
   "source": [
    "df.drop(columns= ['N_artist','features','modify_lyrics','combined','year','id', 'language'], inplace=True)"
   ]
  },
  {
   "cell_type": "code",
   "execution_count": null,
   "metadata": {
    "id": "WpgjqoSRmvaD"
   },
   "outputs": [],
   "source": [
    "from sklearn.feature_extraction.text import TfidfVectorizer\n",
    "from sklearn.metrics.pairwise import cosine_similarity"
   ]
  },
  {
   "cell_type": "code",
   "execution_count": null,
   "metadata": {
    "id": "eNyW2Y7fnGKA"
   },
   "outputs": [],
   "source": [
    "vectorizer = TfidfVectorizer(max_features= 7000,stop_words='english')\n",
    "vector = vectorizer.fit_transform(df['combined_all'])"
   ]
  },
  {
   "cell_type": "code",
   "execution_count": null,
   "metadata": {
    "id": "8dWoZ5JUnGvC"
   },
   "outputs": [],
   "source": [
    "def recommend(song):\n",
    "    if song not in df['title'].values:\n",
    "        print(f\"'{song}' is not found in the dataset.\")\n",
    "        return\n",
    "\n",
    "    try:\n",
    "        song_index = df[df['title'] == song].index[0]\n",
    "        distances = cosine_similarity(vector[song_index].reshape(1, -1), vector)[0]\n",
    "        songs_list = sorted(list(enumerate(distances)), reverse=True, key=lambda x: x[1])[:21]\n",
    "        print(f\"Recommendations for '{song}':\")\n",
    "\n",
    "        for i in songs_list:\n",
    "            if i[0] != song_index:\n",
    "                print(df.iloc[i[0]].title)\n",
    "    except Exception as e:\n",
    "        print(\"An error occurred:\", e)"
   ]
  },
  {
   "cell_type": "code",
   "execution_count": null,
   "metadata": {
    "id": "pXBWOC12nGxV"
   },
   "outputs": [],
   "source": [
    "recommend('Raptured')"
   ]
  },
  {
   "cell_type": "code",
   "execution_count": null,
   "metadata": {},
   "outputs": [],
   "source": [
    "import pickle"
   ]
  },
  {
   "cell_type": "code",
   "execution_count": null,
   "metadata": {},
   "outputs": [],
   "source": [
    "pickle.dump(df.to_dict(),open('songs_dict.pkl', 'wb'))"
   ]
  },
  {
   "cell_type": "code",
   "execution_count": null,
   "metadata": {},
   "outputs": [],
   "source": [
    "songs_dict = pickle.load(open('songs_dict.pkl', 'rb'))"
   ]
  },
  {
   "cell_type": "code",
   "execution_count": null,
   "metadata": {},
   "outputs": [],
   "source": [
    "import pandas as pd\n",
    "df = pd.DataFrame(songs_dict)"
   ]
  },
  {
   "cell_type": "code",
   "execution_count": null,
   "metadata": {},
   "outputs": [],
   "source": [
    "df.head(10)"
   ]
  },
  {
   "cell_type": "code",
   "execution_count": null,
   "metadata": {},
   "outputs": [],
   "source": []
  }
 ],
 "metadata": {
  "colab": {
   "authorship_tag": "ABX9TyPHpKqYwmmEvR2eFN1fFQjV",
   "provenance": []
  },
  "kernelspec": {
   "display_name": "Python 3",
   "language": "python",
   "name": "python3"
  },
  "language_info": {
   "codemirror_mode": {
    "name": "ipython",
    "version": 3
   },
   "file_extension": ".py",
   "mimetype": "text/x-python",
   "name": "python",
   "nbconvert_exporter": "python",
   "pygments_lexer": "ipython3",
   "version": "3.12.6"
  }
 },
 "nbformat": 4,
 "nbformat_minor": 0
}
